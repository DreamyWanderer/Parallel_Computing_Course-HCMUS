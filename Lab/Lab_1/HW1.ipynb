{
  "cells": [
    {
      "cell_type": "markdown",
      "metadata": {
        "id": "eGBgThS8q8k3"
      },
      "source": [
        "Họ tên: Nguyễn Thế Hoàng\n",
        "\n",
        "MSSV: 20120090"
      ]
    },
    {
      "cell_type": "markdown",
      "metadata": {
        "id": "7qdrvDrCrnqz"
      },
      "source": [
        "# HW1: Giới thiệu CUDA"
      ]
    },
    {
      "cell_type": "markdown",
      "metadata": {
        "id": "VKXB0wA7yhq9"
      },
      "source": [
        "Với các GPU tương đối mới thì để biên dịch chỉ cần dùng câu lệnh: \\\n",
        "`nvcc tên-file.cu -o tên-file-chạy`\n",
        "\n",
        "Nhưng trên Colab mình thường lấy được GPU khá cũ là Tesla K80 với compute capability (phiên bản phần cứng) là 3.7; để biên dịch đúng với GPU khá cũ này thì bạn cần dùng câu lệnh: \\\n",
        "`nvcc -arch=sm_37 tên-file.cu -o tên-file-chạy` \\\n",
        "Trong đó, 37 chính là compute capability của GPU Tesla K80.\n",
        "\n",
        "Để phòng trường hợp khi làm bài bạn lấy được GPU có compute capability x.x nhưng khi chấm bài Thầy lại lấy được GPU có compute capability khác x.x, dưới đây mình sẽ có đoạn code Python để tự động lấy 2 con số ứng với compute capability của GPU và lưu vào 2 biến `major` và `minor`:\n"
      ]
    },
    {
      "cell_type": "code",
      "execution_count": null,
      "metadata": {
        "id": "bCkmnirl2xWF"
      },
      "outputs": [],
      "source": [
        "from numba import cuda\n",
        "major, minor = cuda.get_current_device().compute_capability\n",
        "print(f'GPU compute capability: {major}.{minor}')"
      ]
    },
    {
      "cell_type": "markdown",
      "metadata": {
        "id": "Tq1-pmi72yS6"
      },
      "source": [
        "Một khi đã chạy đoạn code Python ở trên, để biên dịch thì bạn sẽ dùng câu lệnh: \\\n",
        "`nvcc -arch=sm_{major}{minor} tên-file.cu -o tên-file-chạy`"
      ]
    },
    {
      "cell_type": "markdown",
      "metadata": {
        "id": "QkZaH7EE-ocN"
      },
      "source": [
        "Dưới đây, khi làm bài thì bạn có thể tùy ý thêm/xóa cell. Đừng xóa mấy cell có chữ của Thầy là được."
      ]
    },
    {
      "cell_type": "markdown",
      "metadata": {
        "id": "DH9lSjFfr3Kw"
      },
      "source": [
        "## Câu 1"
      ]
    },
    {
      "cell_type": "markdown",
      "metadata": {},
      "source": [
        "### Executing details with various Block sizes\n",
        "\n",
        "- $16 \\times 16$\n",
        "\n",
        "  - Processing time (use host): 2.103296 ms\n",
        "  - Processing time (use device): 1.147776 ms\n",
        "  - Error between device result and host result: 0.002674\n",
        "\n",
        "- $32 \\times 32$\n",
        "\n",
        "  - Processing time (use host): 3.551232 ms\n",
        "  - Processing time (use device): 1.278688 ms\n",
        "  - Error between device result and host result: 0.002674\n",
        "\n",
        "- $64 \\times 64$\n",
        "\n",
        "  *ERROR*\n",
        "  "
      ]
    },
    {
      "cell_type": "markdown",
      "metadata": {
        "id": "XlycLWxberDO"
      },
      "source": [
        "## Câu 2"
      ]
    },
    {
      "cell_type": "markdown",
      "metadata": {},
      "source": [
        "Executing details with various Block sizes\n",
        "\n",
        "**Note**: All error measurement between host result and standard result is 0.0. So I just compare the error between the device and host one.\n",
        "\n",
        "- $16 \\times 16$\n",
        "\n",
        "  - Processing time (use host): 398.523315 ms\n",
        "  - Processing time (use device): 2.808288 ms\n",
        "  - Error between device result and host result: 0.000703\n",
        "\n",
        "- $32 \\times 32$\n",
        "\n",
        "  - Processing time (use host): 289.619965 ms\n",
        "  - Processing time (use device): 2.435040 ms\n",
        "  - Error between device result and host result: 0.000703\n",
        "\n",
        "- $64 \\times 64$\n",
        "\n",
        "  - Processing time (use host): 261.842468 ms\n",
        "  - Processing time (use device): **ERROR**\n",
        "  - Error between device result and host result: **ERROR**"
      ]
    }
  ],
  "metadata": {
    "accelerator": "GPU",
    "colab": {
      "collapsed_sections": [],
      "name": "HW1.ipynb",
      "provenance": []
    },
    "kernelspec": {
      "display_name": "Python 3",
      "name": "python3"
    },
    "language_info": {
      "name": "python",
      "version": "3.9.18"
    }
  },
  "nbformat": 4,
  "nbformat_minor": 0
}
