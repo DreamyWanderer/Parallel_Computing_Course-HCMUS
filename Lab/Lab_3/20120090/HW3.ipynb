{
  "cells": [
    {
      "cell_type": "markdown",
      "source": [
        "Fullname: Nguyễn Thế Hoàng\n",
        "\n",
        "Student ID: 20120090"
      ],
      "metadata": {
        "id": "qgm9ZJo2jtKr"
      }
    },
    {
      "cell_type": "code",
      "execution_count": null,
      "metadata": {
        "colab": {
          "base_uri": "https://localhost:8080/"
        },
        "id": "hM2t8xhETj7y",
        "outputId": "57936f6d-92ca-4471-ec35-53da832736a4"
      },
      "outputs": [
        {
          "name": "stdout",
          "output_type": "stream",
          "text": [
            "Mounted at /content/drive\n"
          ]
        }
      ],
      "source": [
        "from google.colab import drive\n",
        "drive.mount('/content/drive')"
      ]
    },
    {
      "cell_type": "markdown",
      "source": [
        "# Question 1"
      ],
      "metadata": {
        "id": "BT3nduwwjptc"
      }
    },
    {
      "cell_type": "code",
      "execution_count": null,
      "metadata": {
        "colab": {
          "base_uri": "https://localhost:8080/"
        },
        "id": "21ZiK_9NTvoC",
        "outputId": "ebe4ea7d-3d03-4c54-aa25-c4db88ff9d72"
      },
      "outputs": [
        {
          "name": "stdout",
          "output_type": "stream",
          "text": [
            "GPU compute capability: 7.5\n"
          ]
        }
      ],
      "source": [
        "from numba import cuda\n",
        "\n",
        "major, minor = cuda.get_current_device().compute_capability\n",
        "print(f'GPU compute capability: {major}.{minor}')\n",
        "\n",
        "wkDir = '\"/content/drive/MyDrive/University/Parallel Computing/Personal/\"'\n",
        "# wkDir = './'\n",
        "p1Path = f'{wkDir}HW3_P1.cu'\n",
        "p1Exe = f'{wkDir}P1.exe'\n",
        "imgInp = f'{wkDir}in.pnm'\n",
        "imgOut = f'{wkDir}out.pnm'"
      ]
    },
    {
      "cell_type": "code",
      "execution_count": 27,
      "metadata": {
        "colab": {
          "base_uri": "https://localhost:8080/"
        },
        "id": "sIJtFTDiVAhe",
        "outputId": "f029ab21-561d-4200-a4a6-801cb61ba952"
      },
      "outputs": [
        {
          "output_type": "stream",
          "name": "stdout",
          "text": [
            "ptxas info    : 0 bytes gmem, 324 bytes cmem[3]\n",
            "ptxas info    : Compiling entry function '_Z14blurImgKernel3P6uchar3iiiS0_' for 'sm_75'\n",
            "ptxas info    : Function properties for _Z14blurImgKernel3P6uchar3iiiS0_\n",
            "    0 bytes stack frame, 0 bytes spill stores, 0 bytes spill loads\n",
            "ptxas info    : Used 35 registers, 384 bytes cmem[0]\n",
            "ptxas info    : Compiling entry function '_Z14blurImgKernel2P6uchar3iiPfiS0_' for 'sm_75'\n",
            "ptxas info    : Function properties for _Z14blurImgKernel2P6uchar3iiPfiS0_\n",
            "    0 bytes stack frame, 0 bytes spill stores, 0 bytes spill loads\n",
            "ptxas info    : Used 37 registers, 392 bytes cmem[0]\n",
            "ptxas info    : Compiling entry function '_Z14blurImgKernel1P6uchar3iiPfiS0_' for 'sm_75'\n",
            "ptxas info    : Function properties for _Z14blurImgKernel1P6uchar3iiPfiS0_\n",
            "    0 bytes stack frame, 0 bytes spill stores, 0 bytes spill loads\n",
            "ptxas info    : Used 36 registers, 392 bytes cmem[0]\n",
            "**********GPU info**********\n",
            "Name: Tesla T4\n",
            "Compute capability: 7.5\n",
            "Num SMs: 40\n",
            "Max num threads per SM: 1024\n",
            "Max num warps per SM: 32\n",
            "GMEM: 15835398144 bytes\n",
            "CMEM: 65536 bytes\n",
            "L2 cache: 4194304 bytes\n",
            "SMEM / one SM: 65536 bytes\n",
            "****************************\n",
            "\n",
            "Image size (width x height): 512 x 512\n",
            "\n",
            "Kernel 1, block size 16x16, grid size 32x32\n",
            "Kernel time: 0.417088 ms\n",
            "Error: 0.000703\n",
            "\n",
            "Kernel 2, block size 16x16, grid size 32x32\n",
            "Kernel time: 0.989184 ms\n",
            "Error: 0.000703\n",
            "\n",
            "Kernel 3, block size 16x16, grid size 32x32\n",
            "Kernel time: 0.987136 ms\n",
            "Error: 0.000703\n"
          ]
        }
      ],
      "source": [
        "!nvcc -arch=sm_{major}{minor} --ptxas-options=-v {p1Path} -o {p1Exe}\n",
        "# !nvprof {p1Exe}\n",
        "!{p1Exe} {imgInp} {imgOut}"
      ]
    },
    {
      "cell_type": "code",
      "execution_count": 29,
      "metadata": {
        "colab": {
          "base_uri": "https://localhost:8080/"
        },
        "id": "5UL7zXL4ZNxa",
        "outputId": "319afc40-21c5-43dc-853f-ebc532ecdcb8"
      },
      "outputs": [
        {
          "output_type": "stream",
          "name": "stdout",
          "text": [
            "ptxas info    : 0 bytes gmem, 324 bytes cmem[3]\n",
            "ptxas info    : Compiling entry function '_Z14blurImgKernel3P6uchar3iiiS0_' for 'sm_75'\n",
            "ptxas info    : Function properties for _Z14blurImgKernel3P6uchar3iiiS0_\n",
            "    0 bytes stack frame, 0 bytes spill stores, 0 bytes spill loads\n",
            "ptxas info    : Used 35 registers, 384 bytes cmem[0]\n",
            "ptxas info    : Compiling entry function '_Z14blurImgKernel2P6uchar3iiPfiS0_' for 'sm_75'\n",
            "ptxas info    : Function properties for _Z14blurImgKernel2P6uchar3iiPfiS0_\n",
            "    0 bytes stack frame, 0 bytes spill stores, 0 bytes spill loads\n",
            "ptxas info    : Used 37 registers, 392 bytes cmem[0]\n",
            "ptxas info    : Compiling entry function '_Z14blurImgKernel1P6uchar3iiPfiS0_' for 'sm_75'\n",
            "ptxas info    : Function properties for _Z14blurImgKernel1P6uchar3iiPfiS0_\n",
            "    0 bytes stack frame, 0 bytes spill stores, 0 bytes spill loads\n",
            "ptxas info    : Used 36 registers, 392 bytes cmem[0]\n",
            "**********GPU info**********\n",
            "Name: Tesla T4\n",
            "Compute capability: 7.5\n",
            "Num SMs: 40\n",
            "Max num threads per SM: 1024\n",
            "Max num warps per SM: 32\n",
            "GMEM: 15835398144 bytes\n",
            "CMEM: 65536 bytes\n",
            "L2 cache: 4194304 bytes\n",
            "SMEM / one SM: 65536 bytes\n",
            "****************************\n",
            "\n",
            "Image size (width x height): 512 x 512\n",
            "\n",
            "Kernel 1, block size 16x16, grid size 32x32\n",
            "Kernel time: 0.416416 ms\n",
            "Error: 0.000703\n",
            "\n",
            "Kernel 2, block size 16x16, grid size 32x32\n",
            "Kernel time: 1.016192 ms\n",
            "Error: 0.000703\n",
            "\n",
            "Kernel 3, block size 16x16, grid size 32x32\n",
            "Kernel time: 0.989216 ms\n",
            "Error: 0.000703\n"
          ]
        }
      ],
      "source": [
        "!nvcc -arch=sm_{major}{minor} --ptxas-options=-v {p1Path} -o {p1Exe}\n",
        "# !nvprof {p1Exe}\n",
        "!{p1Exe} {imgInp} {imgOut} 16 16"
      ]
    },
    {
      "cell_type": "code",
      "execution_count": 30,
      "metadata": {
        "colab": {
          "base_uri": "https://localhost:8080/"
        },
        "id": "TmEFopuyZD4U",
        "outputId": "7554e225-a581-4739-d338-3490449c02bc"
      },
      "outputs": [
        {
          "output_type": "stream",
          "name": "stdout",
          "text": [
            "ptxas info    : 0 bytes gmem, 324 bytes cmem[3]\n",
            "ptxas info    : Compiling entry function '_Z14blurImgKernel3P6uchar3iiiS0_' for 'sm_75'\n",
            "ptxas info    : Function properties for _Z14blurImgKernel3P6uchar3iiiS0_\n",
            "    0 bytes stack frame, 0 bytes spill stores, 0 bytes spill loads\n",
            "ptxas info    : Used 35 registers, 384 bytes cmem[0]\n",
            "ptxas info    : Compiling entry function '_Z14blurImgKernel2P6uchar3iiPfiS0_' for 'sm_75'\n",
            "ptxas info    : Function properties for _Z14blurImgKernel2P6uchar3iiPfiS0_\n",
            "    0 bytes stack frame, 0 bytes spill stores, 0 bytes spill loads\n",
            "ptxas info    : Used 37 registers, 392 bytes cmem[0]\n",
            "ptxas info    : Compiling entry function '_Z14blurImgKernel1P6uchar3iiPfiS0_' for 'sm_75'\n",
            "ptxas info    : Function properties for _Z14blurImgKernel1P6uchar3iiPfiS0_\n",
            "    0 bytes stack frame, 0 bytes spill stores, 0 bytes spill loads\n",
            "ptxas info    : Used 36 registers, 392 bytes cmem[0]\n",
            "**********GPU info**********\n",
            "Name: Tesla T4\n",
            "Compute capability: 7.5\n",
            "Num SMs: 40\n",
            "Max num threads per SM: 1024\n",
            "Max num warps per SM: 32\n",
            "GMEM: 15835398144 bytes\n",
            "CMEM: 65536 bytes\n",
            "L2 cache: 4194304 bytes\n",
            "SMEM / one SM: 65536 bytes\n",
            "****************************\n",
            "\n",
            "Image size (width x height): 512 x 512\n",
            "\n",
            "Kernel 1, block size 8x8, grid size 64x64\n",
            "Kernel time: 0.754048 ms\n",
            "Error: 0.000703\n",
            "\n",
            "Kernel 2, block size 8x8, grid size 64x64\n",
            "Kernel time: 1.162272 ms\n",
            "Error: 0.000703\n",
            "\n",
            "Kernel 3, block size 8x8, grid size 64x64\n",
            "Kernel time: 1.158816 ms\n",
            "Error: 0.000703\n"
          ]
        }
      ],
      "source": [
        "!nvcc -arch=sm_{major}{minor} --ptxas-options=-v {p1Path} -o {p1Exe}\n",
        "# !nvprof {p1Exe}\n",
        "!{p1Exe} {imgInp} {imgOut} 8 8"
      ]
    },
    {
      "cell_type": "code",
      "execution_count": 28,
      "metadata": {
        "colab": {
          "base_uri": "https://localhost:8080/"
        },
        "id": "nh3vlhZaZVIz",
        "outputId": "890a9aeb-1015-4468-85a3-e238fb42d797"
      },
      "outputs": [
        {
          "output_type": "stream",
          "name": "stdout",
          "text": [
            "ptxas info    : 0 bytes gmem, 324 bytes cmem[3]\n",
            "ptxas info    : Compiling entry function '_Z14blurImgKernel3P6uchar3iiiS0_' for 'sm_75'\n",
            "ptxas info    : Function properties for _Z14blurImgKernel3P6uchar3iiiS0_\n",
            "    0 bytes stack frame, 0 bytes spill stores, 0 bytes spill loads\n",
            "ptxas info    : Used 35 registers, 384 bytes cmem[0]\n",
            "ptxas info    : Compiling entry function '_Z14blurImgKernel2P6uchar3iiPfiS0_' for 'sm_75'\n",
            "ptxas info    : Function properties for _Z14blurImgKernel2P6uchar3iiPfiS0_\n",
            "    0 bytes stack frame, 0 bytes spill stores, 0 bytes spill loads\n",
            "ptxas info    : Used 37 registers, 392 bytes cmem[0]\n",
            "ptxas info    : Compiling entry function '_Z14blurImgKernel1P6uchar3iiPfiS0_' for 'sm_75'\n",
            "ptxas info    : Function properties for _Z14blurImgKernel1P6uchar3iiPfiS0_\n",
            "    0 bytes stack frame, 0 bytes spill stores, 0 bytes spill loads\n",
            "ptxas info    : Used 36 registers, 392 bytes cmem[0]\n",
            "**********GPU info**********\n",
            "Name: Tesla T4\n",
            "Compute capability: 7.5\n",
            "Num SMs: 40\n",
            "Max num threads per SM: 1024\n",
            "Max num warps per SM: 32\n",
            "GMEM: 15835398144 bytes\n",
            "CMEM: 65536 bytes\n",
            "L2 cache: 4194304 bytes\n",
            "SMEM / one SM: 65536 bytes\n",
            "****************************\n",
            "\n",
            "Image size (width x height): 512 x 512\n",
            "\n",
            "Kernel 1, block size 32x16, grid size 16x32\n",
            "Kernel time: 0.417824 ms\n",
            "Error: 0.000703\n",
            "\n",
            "Kernel 2, block size 32x16, grid size 16x32\n",
            "Kernel time: 1.588704 ms\n",
            "Error: 0.000703\n",
            "\n",
            "Kernel 3, block size 32x16, grid size 16x32\n",
            "Kernel time: 1.587808 ms\n",
            "Error: 0.000703\n"
          ]
        }
      ],
      "source": [
        "!nvcc -arch=sm_{major}{minor} --ptxas-options=-v {p1Path} -o {p1Exe}\n",
        "# !nvprof {p1Exe}\n",
        "!{p1Exe} {imgInp} {imgOut} 32 16"
      ]
    },
    {
      "cell_type": "markdown",
      "source": [
        "- The Kernel 1 in this case run more quickly than Kernel 2 and 3\n",
        "- Although Kernel 2 use SMEM, I just use only 1 thread in each block to copy necessary data from GMEM to SMEM. As a result, all other other threads have to wait 1 thread copying data, cost it more time than access directly to GMEM.\n",
        "- However, the Kernel 3 run more quickly than Kernel 2 in general. The reason is the block can access the kernel filter directly from on-chip CMEM."
      ],
      "metadata": {
        "id": "D7DtLDmzimIO"
      }
    },
    {
      "cell_type": "markdown",
      "source": [
        "# Question 2"
      ],
      "metadata": {
        "id": "PQ-ZKmKUjlIK"
      }
    },
    {
      "cell_type": "code",
      "execution_count": 31,
      "metadata": {
        "colab": {
          "base_uri": "https://localhost:8080/"
        },
        "id": "FxzuTT_ikDEc",
        "outputId": "6b544b18-0b1b-4370-98e6-d7dfa0fd91ea"
      },
      "outputs": [
        {
          "output_type": "stream",
          "name": "stdout",
          "text": [
            "GPU compute capability: 7.5\n"
          ]
        }
      ],
      "source": [
        "from numba import cuda\n",
        "\n",
        "major, minor = cuda.get_current_device().compute_capability\n",
        "print(f'GPU compute capability: {major}.{minor}')\n",
        "\n",
        "wkDir = '\"/content/drive/MyDrive/University/Parallel Computing/Personal/\"'\n",
        "# wkDir = './'\n",
        "p2Path = f'{wkDir}HW3_P2.cu'\n",
        "p2Exe = f'{wkDir}P2.exe'"
      ]
    },
    {
      "cell_type": "code",
      "execution_count": 33,
      "metadata": {
        "colab": {
          "base_uri": "https://localhost:8080/"
        },
        "id": "IRPTewtQkSju",
        "outputId": "f392215a-f2f3-4221-ec0f-d007e5ed923c"
      },
      "outputs": [
        {
          "output_type": "stream",
          "name": "stdout",
          "text": [
            "\u001b[01m\u001b[0m\u001b[01m/content/drive/MyDrive/University/Parallel Computing/Personal/HW3_P2.cu(81)\u001b[0m: \u001b[01;35mwarning\u001b[0m #177-D: variable \u001b[01m\"nBytes\"\u001b[0m was declared but never referenced\n",
            "\n",
            "n =  16777217\n",
            "\n",
            "GPU name: Tesla T4\n",
            "GPU compute capability: 7.5\n",
            "Processing time of all device streams: 20.160288 ms\n",
            "\n",
            "INCORRECT :(\n"
          ]
        }
      ],
      "source": [
        "!nvcc -arch=sm_{major}{minor} {p2Path} -o {p2Exe}\n",
        "!{p2Exe}"
      ]
    }
  ],
  "metadata": {
    "accelerator": "GPU",
    "colab": {
      "provenance": []
    },
    "kernelspec": {
      "display_name": "Python 3",
      "name": "python3"
    },
    "language_info": {
      "name": "python"
    }
  },
  "nbformat": 4,
  "nbformat_minor": 0
}